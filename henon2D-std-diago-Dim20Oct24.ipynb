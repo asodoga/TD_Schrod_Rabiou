{
 "cells": [
  {
   "cell_type": "code",
   "execution_count": 5,
   "metadata": {},
   "outputs": [
    {
     "name": "stdout",
     "output_type": "stream",
     "text": [
      "EigVec_nb20_25 [ 6.94449565e-09  1.89057818e-08 -1.74927461e-08  3.01003644e-08\n",
      " -6.88973638e-08  5.51656125e-08  4.47859860e-08 -1.07577247e-07\n",
      "  2.15035936e-07 -1.08510254e-07  4.98799269e-08 -2.11332625e-07\n",
      "  3.23392745e-07 -4.39202902e-07  3.04434585e-07  4.76826560e-08\n",
      " -3.10337250e-07  5.93513129e-07 -5.60192477e-07  1.12699174e-06\n",
      " -5.73191612e-07  4.10500203e-08 -3.90979454e-07  8.62381844e-07\n",
      " -1.25185408e-06]\n"
     ]
    }
   ],
   "source": [
    "from matplotlib import pyplot as plt\n",
    "import numpy as np\n",
    "from matplotlib.backends.backend_pdf import PdfPages\n",
    "from scipy.signal import find_peaks\n",
    "\n",
    "EigVec_nb20= np.loadtxt('/Users/issa/Developpements/TD_Schrod_Rabiou/henon2D-std-diago-dim20Oct24/results_std_nb400/EingVec.txt')\n",
    "EigVec_nb25= np.loadtxt('/Users/issa/Developpements/TD_Schrod_Rabiou/henon2D-std-diago-dim20Oct24/results_std_nb625/EingVec.txt')\n",
    "\n",
    "EigVec_nb20_25 = EigVec_nb20[0:25,1]-EigVec_nb25[0:25,1]\n",
    "\n",
    "print(\"EigVec_nb20_25\", EigVec_nb20_25)"
   ]
  }
 ],
 "metadata": {
  "kernelspec": {
   "display_name": "base",
   "language": "python",
   "name": "python3"
  },
  "language_info": {
   "codemirror_mode": {
    "name": "ipython",
    "version": 3
   },
   "file_extension": ".py",
   "mimetype": "text/x-python",
   "name": "python",
   "nbconvert_exporter": "python",
   "pygments_lexer": "ipython3",
   "version": "3.11.7"
  }
 },
 "nbformat": 4,
 "nbformat_minor": 2
}
